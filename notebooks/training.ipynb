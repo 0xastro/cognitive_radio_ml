{
 "cells": [
  {
   "cell_type": "code",
   "execution_count": 1,
   "metadata": {},
   "outputs": [
    {
     "name": "stdout",
     "output_type": "stream",
     "text": [
      "Python Version: 3.5.2 (default, Nov 17 2016, 17:05:23) \n",
      "[GCC 5.4.0 20160609]\n",
      "Pandas Version: 0.20.2\n",
      "matplotlib Version: 2.0.2\n",
      "NumPy Version: 1.13.0\n",
      "SciPy Version: 0.19.0\n",
      "IPython Version: 6.1.0\n",
      "Scikit-learn Version: 0.18.1\n",
      "graphviz Version: 0.7.1\n",
      "Mglearn Version: 0.1.6\n"
     ]
    }
   ],
   "source": [
    "# Required modules\n",
    "import scipy as sp\n",
    "import numpy as np\n",
    "import pandas as pd\n",
    "import matplotlib\n",
    "import matplotlib.pyplot as plt\n",
    "import IPython\n",
    "import sklearn\n",
    "import graphviz\n",
    "import mglearn\n",
    "import sys\n",
    "\n",
    "print(\"Python Version: {}\".format(sys.version))\n",
    "print(\"Pandas Version: {}\".format(pd.__version__))\n",
    "print(\"matplotlib Version: {}\".format(matplotlib.__version__))\n",
    "print(\"NumPy Version: {}\".format(np.__version__))\n",
    "print(\"SciPy Version: {}\".format(sp.__version__))\n",
    "print(\"IPython Version: {}\".format(IPython.__version__))\n",
    "print(\"Scikit-learn Version: {}\".format(sklearn.__version__))\n",
    "print(\"graphviz Version: {}\".format(graphviz.__version__))\n",
    "print(\"Mglearn Version: {}\".format(mglearn.__version__))"
   ]
  },
  {
   "cell_type": "code",
   "execution_count": 3,
   "metadata": {
    "collapsed": true
   },
   "outputs": [],
   "source": [
    "# Constant parameters given by the DySpan PU setup                              \n",
    "DELAY_1 = 0.005 # tau1                                                          \n",
    "DELAY_2 = 0.01  # tau2                                                          \n",
    "TCONST = 0.002                                                                  \n",
    "MEAN1 = 0.02    # lambda1                                                       \n",
    "MEAN2 = 0.01    # lambda2                                                       \n",
    "MEAN3 = 0.005   # lambda3 \n",
    "N_CHAN = 4      # Number of channels\n",
    "N_SCN = 10      # Number of scenarios"
   ]
  },
  {
   "cell_type": "code",
   "execution_count": 4,
   "metadata": {},
   "outputs": [],
   "source": [
    "# Or avoid doing that per hand and create a list with the following format:\n",
    "# if_time_scn_[]_ch_[]\n",
    "# [[scenario 0, channel 1], [scenario 0, channel 2], ..., [scenario 0, channel 4]],\n",
    "# [[scenario 1, channel 1], [scenario 1, channel 2], ..., [scenario 1, channel 4]],\n",
    "# .\n",
    "# .\n",
    "# .\n",
    "# [[scenario 9, channel 1], [scenario 9, channel 2], ..., [scenario 9, channel 4]],\n",
    "\n",
    "# BETTER TO START THINKING IN CHANNEL 0 TO 3\n",
    "\n",
    "if_time_scn_ch = [[[channel] for channel in range(N_CHAN)] \n",
    "                  for scenario in range(N_SCN)]\n",
    "\n",
    "for scenario in range(N_SCN):\n",
    "    for channel in range(N_CHAN):\n",
    "        if_time_scn_ch[scenario][channel] = sp.fromfile(open(\n",
    "            \"../../data/feature_extraction/2/interframe_time_ch_{}_scn_{}.dat\"\n",
    "            .format(channel+1, scenario)), dtype=sp.float32)"
   ]
  },
  {
   "cell_type": "code",
   "execution_count": 5,
   "metadata": {
    "collapsed": true
   },
   "outputs": [],
   "source": [
    "# Do the same automation for the interframe_delays in a list\n",
    "interframe_delays_scn = [[] for i in range(N_SCN)]\n",
    "for scenario in range(N_SCN):\n",
    "    interframe_delays_scn[scenario] = np.transpose(np.array([if_time_scn_ch[scenario][channel] for channel in range(N_CHAN)]))"
   ]
  },
  {
   "cell_type": "code",
   "execution_count": 8,
   "metadata": {
    "collapsed": true
   },
   "outputs": [],
   "source": [
    "# Create iterables for packet rate and variance\n",
    "packet_rate_scn = [[] for scenario in range(N_SCN)]\n",
    "variance_scn = [[] for scenario in range(N_SCN)]\n",
    "\n",
    "for scenario in range(N_SCN):\n",
    "    packet_rate_scn[scenario] = sp.fromfile(open(\"../../data/feature_extraction/2/packet_rate_scn_{}.dat\".format(scenario)),\n",
    "                                                dtype=sp.float32)\n",
    "    variance_scn[scenario] = sp.fromfile(open(\"../../data/feature_extraction/2/variance_scn_{}.dat\".format(scenario)),\n",
    "                                             dtype=sp.float32)"
   ]
  },
  {
   "cell_type": "code",
   "execution_count": 9,
   "metadata": {},
   "outputs": [
    {
     "name": "stdout",
     "output_type": "stream",
     "text": [
      "Shape Interframe delays for scenario 0: 4500\n",
      "Shape Interframe delays for scenario 0: 4510\n",
      "Shape Interframe delays for scenario 0: 4510\n",
      "Shape Interframe delays for scenario 0: 4510\n",
      "Shape Interframe delays for scenario 1: 4500\n",
      "Shape Interframe delays for scenario 1: 4510\n",
      "Shape Interframe delays for scenario 1: 4510\n",
      "Shape Interframe delays for scenario 1: 4510\n",
      "Shape Interframe delays for scenario 2: 4470\n",
      "Shape Interframe delays for scenario 2: 4470\n",
      "Shape Interframe delays for scenario 2: 4470\n",
      "Shape Interframe delays for scenario 2: 4470\n",
      "Shape Interframe delays for scenario 3: 4096\n",
      "Shape Interframe delays for scenario 3: 4096\n",
      "Shape Interframe delays for scenario 3: 4096\n",
      "Shape Interframe delays for scenario 3: 4096\n",
      "Shape Interframe delays for scenario 4: 4500\n",
      "Shape Interframe delays for scenario 4: 4520\n",
      "Shape Interframe delays for scenario 4: 4520\n",
      "Shape Interframe delays for scenario 4: 4520\n",
      "Shape Interframe delays for scenario 5: 4470\n",
      "Shape Interframe delays for scenario 5: 4470\n",
      "Shape Interframe delays for scenario 5: 4470\n",
      "Shape Interframe delays for scenario 5: 4470\n",
      "Shape Interframe delays for scenario 6: 4500\n",
      "Shape Interframe delays for scenario 6: 4520\n",
      "Shape Interframe delays for scenario 6: 4520\n",
      "Shape Interframe delays for scenario 6: 4520\n",
      "Shape Interframe delays for scenario 7: 4500\n",
      "Shape Interframe delays for scenario 7: 4510\n",
      "Shape Interframe delays for scenario 7: 4510\n",
      "Shape Interframe delays for scenario 7: 4510\n",
      "Shape Interframe delays for scenario 8: 4096\n",
      "Shape Interframe delays for scenario 8: 4096\n",
      "Shape Interframe delays for scenario 8: 4096\n",
      "Shape Interframe delays for scenario 8: 4096\n",
      "Shape Interframe delays for scenario 9: 4096\n",
      "Shape Interframe delays for scenario 9: 4096\n",
      "Shape Interframe delays for scenario 9: 4096\n",
      "Shape Interframe delays for scenario 9: 4096\n"
     ]
    }
   ],
   "source": [
    "# Check the shapes of the data\n",
    "for scenario in range(N_SCN):\n",
    "    for channel in range(N_CHAN):\n",
    "        print(\"Shape Interframe delays for scenario {}: {}\"\n",
    "             .format(scenario, if_time_scn_ch[scenario][channel].shape[0]))"
   ]
  },
  {
   "cell_type": "code",
   "execution_count": 12,
   "metadata": {},
   "outputs": [
    {
     "name": "stdout",
     "output_type": "stream",
     "text": [
      "Shape Packet rate for scenario 0: (4510,)\n",
      "Shape variance for scenario 0:    (4510,)\n",
      "Shape Packet rate for scenario 1: (4510,)\n",
      "Shape variance for scenario 1:    (4510,)\n",
      "Shape Packet rate for scenario 2: (4470,)\n",
      "Shape variance for scenario 2:    (4470,)\n",
      "Shape Packet rate for scenario 3: (4096,)\n",
      "Shape variance for scenario 3:    (4096,)\n",
      "Shape Packet rate for scenario 4: (4520,)\n",
      "Shape variance for scenario 4:    (4520,)\n",
      "Shape Packet rate for scenario 5: (4470,)\n",
      "Shape variance for scenario 5:    (4470,)\n",
      "Shape Packet rate for scenario 6: (4520,)\n",
      "Shape variance for scenario 6:    (4520,)\n",
      "Shape Packet rate for scenario 7: (4510,)\n",
      "Shape variance for scenario 7:    (4510,)\n",
      "Shape Packet rate for scenario 8: (4096,)\n",
      "Shape variance for scenario 8:    (4096,)\n",
      "Shape Packet rate for scenario 9: (4096,)\n",
      "Shape variance for scenario 9:    (4096,)\n"
     ]
    }
   ],
   "source": [
    "# Do the same for the packet rate and variance\n",
    "for scenario in range(N_SCN):\n",
    "   print(\"Shape Packet rate for scenario {}: {}\".\n",
    "         format(scenario, packet_rate_scn[scenario].shape))\n",
    "   print(\"Shape variance for scenario {}:    {}\".\n",
    "         format(scenario, variance_scn[scenario].shape))\n",
    "    "
   ]
  },
  {
   "cell_type": "code",
   "execution_count": 2,
   "metadata": {},
   "outputs": [
    {
     "data": {
      "text/plain": [
       "{'Cell': {'cm_config': {'lineNumbers': True}},\n",
       " 'CodeCell': {'cm_config': {'autoCloseBrackets': False}},\n",
       " 'Notebook': {'Header': True, 'Toolbar': True},\n",
       " 'load_extensions': {'comment-uncomment/main': True,\n",
       "  'contrib_nbextensions_help_item/main': True,\n",
       "  'hinterland/hinterland': True,\n",
       "  'nbextensions_configurator/config_menu/main': True,\n",
       "  'ruler/main': True,\n",
       "  'vim_binding/vim_binding': True}}"
      ]
     },
     "execution_count": 2,
     "metadata": {},
     "output_type": "execute_result"
    }
   ],
   "source": [
    "# Run this in Python once, it should take effect permanently\n",
    "from notebook.services.config import ConfigManager\n",
    "c = ConfigManager()\n",
    "c.update('notebook', {\"CodeCell\": {\"cm_config\": {\"autoCloseBrackets\": False}}})"
   ]
  },
  {
   "cell_type": "code",
   "execution_count": 25,
   "metadata": {},
   "outputs": [
    {
     "name": "stdout",
     "output_type": "stream",
     "text": [
      "<class 'list'>\n",
      "<class 'numpy.ndarray'>\n",
      "[array([ 2122.93481445,   992.93334961,   648.00933838, ...,   190.10122681,\n",
      "         190.11975098,   190.11975098], dtype=float32), array([ 1008.8326416 ,   493.33163452,   326.49615479, ...,    98.42765045,\n",
      "          98.42269897,    98.42765045], dtype=float32), array([ 2122.93481445,   992.93334961,   648.00933838, ...,   190.10122681,\n",
      "         190.11975098,   190.11975098], dtype=float32), array([ 1008.8326416 ,   493.33163452,   326.49615479, ...,    98.42765045,\n",
      "          98.42269897,    98.42269897], dtype=float32), array([ 3898.40332031,  2122.93481445,  1261.69250488, ...,   387.59674072,\n",
      "         372.08996582,   387.59674072], dtype=float32), array([ 6688.69873047,  3898.40332031,  2746.97607422, ...,   773.19873047,\n",
      "         713.85229492,   772.8927002 ], dtype=float32), array([ 11421.63671875,   7398.10595703,   5486.23583984, ...,\n",
      "         1743.8392334 ,   1743.8392334 ,   1743.8392334 ], dtype=float32), array([ 15258.59375   ,   1361.99438477,    804.40692139, ...,\n",
      "          188.54136658,    189.69502258,    187.31176758], dtype=float32), array([ 48827.49609375,  41555.3203125 ,  37559.6171875 , ...,\n",
      "          346.04891968,    352.48150635,    356.79574585], dtype=float32), array([ 11836.96972656,   4418.77832031,   2453.64306641, ...,\n",
      "          637.85107422,    632.48059082,    649.08605957], dtype=float32)]\n",
      "[ 2122.93481445   992.93334961   648.00933838 ...,   190.10122681\n",
      "   190.11975098   190.11975098]\n",
      "4096\n",
      "10\n"
     ]
    }
   ],
   "source": [
    "print(type(packet_rate_scn))\n",
    "print(type(packet_rate_scn[0]))\n",
    "print(packet_rate_scn)\n",
    "print(packet_rate_scn[0])\n",
    "print(len(packet_rate_scn[8]))\n",
    "print(len(packet_rate_scn))"
   ]
  },
  {
   "cell_type": "code",
   "execution_count": 27,
   "metadata": {},
   "outputs": [
    {
     "ename": "IndexError",
     "evalue": "list assignment index out of range",
     "output_type": "error",
     "traceback": [
      "\u001b[0;31m---------------------------------------------------------------------------\u001b[0m",
      "\u001b[0;31mIndexError\u001b[0m                                Traceback (most recent call last)",
      "\u001b[0;32m<ipython-input-27-23edcdb5119e>\u001b[0m in \u001b[0;36m<module>\u001b[0;34m()\u001b[0m\n\u001b[1;32m      1\u001b[0m \u001b[0mif_vector\u001b[0m \u001b[0;34m=\u001b[0m \u001b[0;34m[\u001b[0m\u001b[0;34m]\u001b[0m\u001b[0;34m\u001b[0m\u001b[0m\n\u001b[1;32m      2\u001b[0m \u001b[0;32mfor\u001b[0m \u001b[0mi\u001b[0m \u001b[0;32min\u001b[0m \u001b[0mrange\u001b[0m\u001b[0;34m(\u001b[0m\u001b[0;36m4000\u001b[0m\u001b[0;34m)\u001b[0m\u001b[0;34m:\u001b[0m\u001b[0;34m\u001b[0m\u001b[0m\n\u001b[0;32m----> 3\u001b[0;31m     \u001b[0mif_vector\u001b[0m\u001b[0;34m[\u001b[0m\u001b[0mi\u001b[0m\u001b[0;34m]\u001b[0m \u001b[0;34m=\u001b[0m \u001b[0;34m[\u001b[0m\u001b[0mi\u001b[0m \u001b[0;32mfor\u001b[0m \u001b[0mi\u001b[0m \u001b[0;32min\u001b[0m \u001b[0mif_time_scn_ch\u001b[0m\u001b[0;34m[\u001b[0m\u001b[0;36m0\u001b[0m\u001b[0;34m]\u001b[0m\u001b[0;34m[\u001b[0m\u001b[0mi\u001b[0m\u001b[0;34m]\u001b[0m\u001b[0;34m]\u001b[0m\u001b[0;34m\u001b[0m\u001b[0m\n\u001b[0m\u001b[1;32m      4\u001b[0m \u001b[0;34m\u001b[0m\u001b[0m\n",
      "\u001b[0;31mIndexError\u001b[0m: list assignment index out of range"
     ]
    }
   ],
   "source": [
    "if_vector = []\n",
    "for i in range(4000):\n",
    "    if_vector[i] = [i for i in if_time_scn_ch[0][i]]\n",
    "                    "
   ]
  },
  {
   "cell_type": "code",
   "execution_count": 33,
   "metadata": {},
   "outputs": [
    {
     "data": {
      "text/plain": [
       "18030"
      ]
     },
     "execution_count": 33,
     "metadata": {},
     "output_type": "execute_result"
    }
   ],
   "source": [
    "if_vector = [[]]\n",
    "for i in range(N_CHAN):\n",
    "    if_vector[0].extend(if_time_scn_ch[0][i])\n",
    "len(if_vector[0])"
   ]
  },
  {
   "cell_type": "code",
   "execution_count": 40,
   "metadata": {},
   "outputs": [
    {
     "data": {
      "text/plain": [
       "[-0.35840458, -1.0, -1.0, 5.0048642]"
      ]
     },
     "execution_count": 40,
     "metadata": {},
     "output_type": "execute_result"
    }
   ],
   "source": [
    "if_vector = []\n",
    "if_vector = [if_time_scn_ch[0][0][0], if_time_scn_ch[0][1][0], if_time_scn_ch[0][2][0], if_time_scn_ch[0][3][0]]\n",
    "if_vector"
   ]
  },
  {
   "cell_type": "code",
   "execution_count": 46,
   "metadata": {},
   "outputs": [
    {
     "name": "stdout",
     "output_type": "stream",
     "text": [
      "-1.0\n",
      "-1.0\n",
      "-1.0\n",
      "5.00145\n"
     ]
    }
   ],
   "source": [
    "print(if_time_scn_ch[0][0][1021])\n",
    "print(if_time_scn_ch[0][1][1021])\n",
    "print(if_time_scn_ch[0][2][1021])\n",
    "print(if_time_scn_ch[0][3][1021])"
   ]
  },
  {
   "cell_type": "code",
   "execution_count": 42,
   "metadata": {
    "collapsed": true
   },
   "outputs": [],
   "source": [
    "if_vector = [[] for i in range(4000)]\n",
    "for i in range(4000):\n",
    "    for chan in range(N_CHAN):\n",
    "        if_vector[i].append(if_time_scn_ch[0][chan][i])"
   ]
  },
  {
   "cell_type": "code",
   "execution_count": 48,
   "metadata": {},
   "outputs": [
    {
     "data": {
      "text/plain": [
       "4000"
      ]
     },
     "execution_count": 48,
     "metadata": {},
     "output_type": "execute_result"
    }
   ],
   "source": [
    "len(if_vector)"
   ]
  },
  {
   "cell_type": "code",
   "execution_count": null,
   "metadata": {
    "collapsed": true
   },
   "outputs": [],
   "source": []
  }
 ],
 "metadata": {
  "kernelspec": {
   "display_name": "Python 3",
   "language": "python",
   "name": "python3"
  },
  "language_info": {
   "codemirror_mode": {
    "name": "ipython",
    "version": 3
   },
   "file_extension": ".py",
   "mimetype": "text/x-python",
   "name": "python",
   "nbconvert_exporter": "python",
   "pygments_lexer": "ipython3",
   "version": "3.5.2"
  }
 },
 "nbformat": 4,
 "nbformat_minor": 2
}
